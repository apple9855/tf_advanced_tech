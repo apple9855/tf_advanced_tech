{
 "cells": [
  {
   "cell_type": "markdown",
   "id": "1359653f-90b5-4989-8194-07ef047f1a22",
   "metadata": {},
   "source": [
    "# Custom Training of Breast Cancer Prediction\n",
    "\n",
    "- Dataset: Breast Cancer Dataset \n",
    "- To predict the 'Class' is benign or malignant\n",
    "- Using custom training techniques"
   ]
  },
  {
   "cell_type": "markdown",
   "id": "2e1db2e1-4b97-4431-94b5-de5d7e444628",
   "metadata": {},
   "source": [
    "## Imports"
   ]
  },
  {
   "cell_type": "code",
   "execution_count": 1,
   "id": "2b987a49-10cb-4e86-91c7-3d316e5746bb",
   "metadata": {},
   "outputs": [],
   "source": [
    "import numpy as np\n",
    "import pandas as pd\n",
    "import tensorflow as tf\n",
    "import tensorflow_datasets as tfds\n",
    "from tensorflow.keras.models import Model\n",
    "from tensorflow.keras.layers import Input, Dense\n",
    "\n",
    "import matplotlib.pyplot as plt\n",
    "import matplotlib.ticker as mticker\n",
    "from sklearn.model_selection import train_test_split\n",
    "from sklearn.metrics import confusion_matrix\n",
    "\n",
    "import itertools\n"
   ]
  },
  {
   "cell_type": "code",
   "execution_count": 2,
   "id": "40623e3e-c0ee-40e5-be4e-8a2e969e3721",
   "metadata": {},
   "outputs": [],
   "source": [
    "tf.get_logger().setLevel('ERROR')  \n",
    "#当你设置日志级别为 'ERROR' 时，这意味着只有错误（ERROR）级别的日志会被输出，而较低级别的警告（WARNING）和信息（INFO）日志将不会被输出。"
   ]
  },
  {
   "cell_type": "markdown",
   "id": "b5847bb2-089b-4937-be53-40eeb9a42270",
   "metadata": {},
   "source": [
    "## Load datasets"
   ]
  },
  {
   "cell_type": "code",
   "execution_count": 3,
   "id": "e51eefd8-d113-457c-8835-5c910e62d42a",
   "metadata": {},
   "outputs": [
    {
     "data": {
      "text/html": [
       "<div>\n",
       "<style scoped>\n",
       "    .dataframe tbody tr th:only-of-type {\n",
       "        vertical-align: middle;\n",
       "    }\n",
       "\n",
       "    .dataframe tbody tr th {\n",
       "        vertical-align: top;\n",
       "    }\n",
       "\n",
       "    .dataframe thead th {\n",
       "        text-align: right;\n",
       "    }\n",
       "</style>\n",
       "<table border=\"1\" class=\"dataframe\">\n",
       "  <thead>\n",
       "    <tr style=\"text-align: right;\">\n",
       "      <th></th>\n",
       "      <th>id</th>\n",
       "      <th>clump_thickness</th>\n",
       "      <th>un_cell_size</th>\n",
       "      <th>un_cell_shape</th>\n",
       "      <th>marginal_adheshion</th>\n",
       "      <th>single_eph_cell_size</th>\n",
       "      <th>bare_nuclei</th>\n",
       "      <th>bland_chromatin</th>\n",
       "      <th>normal_nucleoli</th>\n",
       "      <th>mitoses</th>\n",
       "      <th>class</th>\n",
       "    </tr>\n",
       "  </thead>\n",
       "  <tbody>\n",
       "    <tr>\n",
       "      <th>0</th>\n",
       "      <td>1000025</td>\n",
       "      <td>5</td>\n",
       "      <td>1</td>\n",
       "      <td>1</td>\n",
       "      <td>1</td>\n",
       "      <td>2</td>\n",
       "      <td>1</td>\n",
       "      <td>3</td>\n",
       "      <td>1</td>\n",
       "      <td>1</td>\n",
       "      <td>2</td>\n",
       "    </tr>\n",
       "    <tr>\n",
       "      <th>1</th>\n",
       "      <td>1002945</td>\n",
       "      <td>5</td>\n",
       "      <td>4</td>\n",
       "      <td>4</td>\n",
       "      <td>5</td>\n",
       "      <td>7</td>\n",
       "      <td>10</td>\n",
       "      <td>3</td>\n",
       "      <td>2</td>\n",
       "      <td>1</td>\n",
       "      <td>2</td>\n",
       "    </tr>\n",
       "    <tr>\n",
       "      <th>2</th>\n",
       "      <td>1015425</td>\n",
       "      <td>3</td>\n",
       "      <td>1</td>\n",
       "      <td>1</td>\n",
       "      <td>1</td>\n",
       "      <td>2</td>\n",
       "      <td>2</td>\n",
       "      <td>3</td>\n",
       "      <td>1</td>\n",
       "      <td>1</td>\n",
       "      <td>2</td>\n",
       "    </tr>\n",
       "    <tr>\n",
       "      <th>3</th>\n",
       "      <td>1016277</td>\n",
       "      <td>6</td>\n",
       "      <td>8</td>\n",
       "      <td>8</td>\n",
       "      <td>1</td>\n",
       "      <td>3</td>\n",
       "      <td>4</td>\n",
       "      <td>3</td>\n",
       "      <td>7</td>\n",
       "      <td>1</td>\n",
       "      <td>2</td>\n",
       "    </tr>\n",
       "    <tr>\n",
       "      <th>4</th>\n",
       "      <td>1017023</td>\n",
       "      <td>4</td>\n",
       "      <td>1</td>\n",
       "      <td>1</td>\n",
       "      <td>3</td>\n",
       "      <td>2</td>\n",
       "      <td>1</td>\n",
       "      <td>3</td>\n",
       "      <td>1</td>\n",
       "      <td>1</td>\n",
       "      <td>2</td>\n",
       "    </tr>\n",
       "  </tbody>\n",
       "</table>\n",
       "</div>"
      ],
      "text/plain": [
       "        id  clump_thickness  un_cell_size  un_cell_shape  marginal_adheshion  \\\n",
       "0  1000025                5             1              1                   1   \n",
       "1  1002945                5             4              4                   5   \n",
       "2  1015425                3             1              1                   1   \n",
       "3  1016277                6             8              8                   1   \n",
       "4  1017023                4             1              1                   3   \n",
       "\n",
       "   single_eph_cell_size bare_nuclei  bland_chromatin  normal_nucleoli  \\\n",
       "0                     2           1                3                1   \n",
       "1                     7          10                3                2   \n",
       "2                     2           2                3                1   \n",
       "3                     3           4                3                7   \n",
       "4                     2           1                3                1   \n",
       "\n",
       "   mitoses  class  \n",
       "0        1      2  \n",
       "1        1      2  \n",
       "2        1      2  \n",
       "3        1      2  \n",
       "4        1      2  "
      ]
     },
     "execution_count": 3,
     "metadata": {},
     "output_type": "execute_result"
    }
   ],
   "source": [
    "path = \"./data/data.csv\"\n",
    "col_names = [\"id\", \n",
    "             \"clump_thickness\", \n",
    "             \"un_cell_size\", \n",
    "             \"un_cell_shape\", \n",
    "             \"marginal_adheshion\", \n",
    "             \"single_eph_cell_size\", \n",
    "             \"bare_nuclei\", \n",
    "             \"bland_chromatin\", \n",
    "             \"normal_nucleoli\", \n",
    "             \"mitoses\", \n",
    "             \"class\"]\n",
    "df = pd.read_csv(path, names=col_names)\n",
    "df.head()"
   ]
  },
  {
   "cell_type": "markdown",
   "id": "41f9731c-b0d2-48df-b883-2de44f8ff585",
   "metadata": {},
   "source": [
    "## Preprocess dataset"
   ]
  },
  {
   "cell_type": "markdown",
   "id": "c394a1f8-1801-4ca6-a0dc-0a6b643b9ac6",
   "metadata": {},
   "source": [
    "### id of dataset is useless for training."
   ]
  },
  {
   "cell_type": "code",
   "execution_count": 4,
   "id": "deba53c5-accd-4f70-ba2d-c7d3f4171f4f",
   "metadata": {
    "scrolled": true
   },
   "outputs": [
    {
     "data": {
      "text/plain": [
       "0      1000025\n",
       "1      1002945\n",
       "2      1015425\n",
       "3      1016277\n",
       "4      1017023\n",
       "        ...   \n",
       "694     776715\n",
       "695     841769\n",
       "696     888820\n",
       "697     897471\n",
       "698     897471\n",
       "Name: id, Length: 699, dtype: int64"
      ]
     },
     "execution_count": 4,
     "metadata": {},
     "output_type": "execute_result"
    }
   ],
   "source": [
    "df.pop(\"id\")"
   ]
  },
  {
   "cell_type": "markdown",
   "id": "d868a6bc-64e6-41da-900b-362bd35d7313",
   "metadata": {},
   "source": [
    "### check unknown value"
   ]
  },
  {
   "cell_type": "code",
   "execution_count": 5,
   "id": "ead1df57-4916-442f-b0a3-28238747a2cd",
   "metadata": {},
   "outputs": [
    {
     "name": "stdout",
     "output_type": "stream",
     "text": [
      "clump_thickness\n",
      "1     145\n",
      "5     130\n",
      "3     108\n",
      "4      80\n",
      "10     69\n",
      "2      50\n",
      "8      46\n",
      "6      34\n",
      "7      23\n",
      "9      14\n",
      "Name: count, dtype: int64\n",
      "un_cell_size\n",
      "1     384\n",
      "10     67\n",
      "3      52\n",
      "2      45\n",
      "4      40\n",
      "5      30\n",
      "8      29\n",
      "6      27\n",
      "7      19\n",
      "9       6\n",
      "Name: count, dtype: int64\n",
      "un_cell_shape\n",
      "1     353\n",
      "2      59\n",
      "10     58\n",
      "3      56\n",
      "4      44\n",
      "5      34\n",
      "6      30\n",
      "7      30\n",
      "8      28\n",
      "9       7\n",
      "Name: count, dtype: int64\n",
      "marginal_adheshion\n",
      "1     407\n",
      "3      58\n",
      "2      58\n",
      "10     55\n",
      "4      33\n",
      "8      25\n",
      "5      23\n",
      "6      22\n",
      "7      13\n",
      "9       5\n",
      "Name: count, dtype: int64\n",
      "single_eph_cell_size\n",
      "2     386\n",
      "3      72\n",
      "4      48\n",
      "1      47\n",
      "6      41\n",
      "5      39\n",
      "10     31\n",
      "8      21\n",
      "7      12\n",
      "9       2\n",
      "Name: count, dtype: int64\n",
      "bare_nuclei\n",
      "1     402\n",
      "10    132\n",
      "2      30\n",
      "5      30\n",
      "3      28\n",
      "8      21\n",
      "4      19\n",
      "?      16\n",
      "9       9\n",
      "7       8\n",
      "6       4\n",
      "Name: count, dtype: int64\n",
      "bland_chromatin\n",
      "2     166\n",
      "3     165\n",
      "1     152\n",
      "7      73\n",
      "4      40\n",
      "5      34\n",
      "8      28\n",
      "10     20\n",
      "9      11\n",
      "6      10\n",
      "Name: count, dtype: int64\n",
      "normal_nucleoli\n",
      "1     443\n",
      "10     61\n",
      "3      44\n",
      "2      36\n",
      "8      24\n",
      "6      22\n",
      "5      19\n",
      "4      18\n",
      "7      16\n",
      "9      16\n",
      "Name: count, dtype: int64\n",
      "mitoses\n",
      "1     579\n",
      "2      35\n",
      "3      33\n",
      "10     14\n",
      "4      12\n",
      "7       9\n",
      "8       8\n",
      "5       6\n",
      "6       3\n",
      "Name: count, dtype: int64\n",
      "class\n",
      "2    458\n",
      "4    241\n",
      "Name: count, dtype: int64\n"
     ]
    }
   ],
   "source": [
    "for i in df.columns:\n",
    "    print(df[i].value_counts())"
   ]
  },
  {
   "cell_type": "markdown",
   "id": "cd93dc96-0e07-4f5a-9757-fd8f43342d8e",
   "metadata": {},
   "source": [
    "### 'bare_nuclei' \n",
    "- has a '?' value, remove it.\n",
    "- 当DataFrame中的某个列包含混合类型（即数值和字符串等），pandas通常会将该列的数据类型推断为object类型。由于df['bare_nuclei']列中出现了\"?\"这样的非数值字符串，pandas无法将整列解释为纯数值类型（如int或float），因此该列被推断为object类型。\n",
    "- pd.to_numeric 改成int64"
   ]
  },
  {
   "cell_type": "code",
   "execution_count": 6,
   "id": "e9008a94-0015-4e79-9f3b-3b197c60ddae",
   "metadata": {},
   "outputs": [],
   "source": [
    "df = df[df['bare_nuclei'] != '?']\n",
    "df['bare_nuclei'] = pd.to_numeric(df['bare_nuclei'])"
   ]
  },
  {
   "cell_type": "code",
   "execution_count": 7,
   "id": "e07d47a9-da69-48b2-a9d5-ee476d1069e8",
   "metadata": {},
   "outputs": [
    {
     "name": "stdout",
     "output_type": "stream",
     "text": [
      "<class 'pandas.core.frame.DataFrame'>\n",
      "Index: 683 entries, 0 to 698\n",
      "Data columns (total 10 columns):\n",
      " #   Column                Non-Null Count  Dtype\n",
      "---  ------                --------------  -----\n",
      " 0   clump_thickness       683 non-null    int64\n",
      " 1   un_cell_size          683 non-null    int64\n",
      " 2   un_cell_shape         683 non-null    int64\n",
      " 3   marginal_adheshion    683 non-null    int64\n",
      " 4   single_eph_cell_size  683 non-null    int64\n",
      " 5   bare_nuclei           683 non-null    int64\n",
      " 6   bland_chromatin       683 non-null    int64\n",
      " 7   normal_nucleoli       683 non-null    int64\n",
      " 8   mitoses               683 non-null    int64\n",
      " 9   class                 683 non-null    int64\n",
      "dtypes: int64(10)\n",
      "memory usage: 58.7 KB\n"
     ]
    }
   ],
   "source": [
    "df.info()"
   ]
  },
  {
   "cell_type": "markdown",
   "id": "1a8688c9-7e98-4173-ad18-0400def7b0b3",
   "metadata": {},
   "source": [
    "### check the label \"class\" \n",
    "- change the label 'class' from 2,4 to 0,1;\n",
    "- benign=0, malignant=1"
   ]
  },
  {
   "cell_type": "code",
   "execution_count": 8,
   "id": "051c50e7-283d-4d5c-bd84-9cbb90abfdc2",
   "metadata": {},
   "outputs": [
    {
     "data": {
      "text/plain": [
       "<Axes: >"
      ]
     },
     "execution_count": 8,
     "metadata": {},
     "output_type": "execute_result"
    },
    {
     "data": {
      "image/png": "[encoded data removed]",
      "text/plain": [
       "<Figure size 640x480 with 1 Axes>"
      ]
     },
     "metadata": {},
     "output_type": "display_data"
    }
   ],
   "source": [
    "df['class'].hist(bins=40)"
   ]
  },
  {
   "cell_type": "code",
   "execution_count": 9,
   "id": "ff7f9f06-503e-4708-8726-2e2b020ac076",
   "metadata": {},
   "outputs": [],
   "source": [
    "df['class'] = np.where(df['class']==2, 0, 1)"
   ]
  },
  {
   "cell_type": "markdown",
   "id": "f83e755d-c9b3-4543-a83d-c9b75a49977f",
   "metadata": {},
   "source": [
    "### train_test set split"
   ]
  },
  {
   "cell_type": "code",
   "execution_count": 10,
   "id": "dca9caf4-04f3-4776-9fef-13cfe8d933c4",
   "metadata": {},
   "outputs": [],
   "source": [
    "train, test = train_test_split(df, test_size=0.2)"
   ]
  },
  {
   "cell_type": "code",
   "execution_count": 11,
   "id": "47cc2398-5b01-40b9-a733-f31bc369e0c5",
   "metadata": {},
   "outputs": [
    {
     "data": {
      "text/html": [
       "<div>\n",
       "<style scoped>\n",
       "    .dataframe tbody tr th:only-of-type {\n",
       "        vertical-align: middle;\n",
       "    }\n",
       "\n",
       "    .dataframe tbody tr th {\n",
       "        vertical-align: top;\n",
       "    }\n",
       "\n",
       "    .dataframe thead th {\n",
       "        text-align: right;\n",
       "    }\n",
       "</style>\n",
       "<table border=\"1\" class=\"dataframe\">\n",
       "  <thead>\n",
       "    <tr style=\"text-align: right;\">\n",
       "      <th></th>\n",
       "      <th>count</th>\n",
       "      <th>mean</th>\n",
       "      <th>std</th>\n",
       "      <th>min</th>\n",
       "      <th>25%</th>\n",
       "      <th>50%</th>\n",
       "      <th>75%</th>\n",
       "      <th>max</th>\n",
       "    </tr>\n",
       "  </thead>\n",
       "  <tbody>\n",
       "    <tr>\n",
       "      <th>clump_thickness</th>\n",
       "      <td>546.0</td>\n",
       "      <td>4.503663</td>\n",
       "      <td>2.826640</td>\n",
       "      <td>1.0</td>\n",
       "      <td>2.0</td>\n",
       "      <td>4.0</td>\n",
       "      <td>6.0</td>\n",
       "      <td>10.0</td>\n",
       "    </tr>\n",
       "    <tr>\n",
       "      <th>un_cell_size</th>\n",
       "      <td>546.0</td>\n",
       "      <td>3.228938</td>\n",
       "      <td>3.089011</td>\n",
       "      <td>1.0</td>\n",
       "      <td>1.0</td>\n",
       "      <td>1.0</td>\n",
       "      <td>5.0</td>\n",
       "      <td>10.0</td>\n",
       "    </tr>\n",
       "    <tr>\n",
       "      <th>un_cell_shape</th>\n",
       "      <td>546.0</td>\n",
       "      <td>3.293040</td>\n",
       "      <td>2.993912</td>\n",
       "      <td>1.0</td>\n",
       "      <td>1.0</td>\n",
       "      <td>2.0</td>\n",
       "      <td>5.0</td>\n",
       "      <td>10.0</td>\n",
       "    </tr>\n",
       "    <tr>\n",
       "      <th>marginal_adheshion</th>\n",
       "      <td>546.0</td>\n",
       "      <td>2.886447</td>\n",
       "      <td>2.908059</td>\n",
       "      <td>1.0</td>\n",
       "      <td>1.0</td>\n",
       "      <td>1.0</td>\n",
       "      <td>4.0</td>\n",
       "      <td>10.0</td>\n",
       "    </tr>\n",
       "    <tr>\n",
       "      <th>single_eph_cell_size</th>\n",
       "      <td>546.0</td>\n",
       "      <td>3.309524</td>\n",
       "      <td>2.267719</td>\n",
       "      <td>1.0</td>\n",
       "      <td>2.0</td>\n",
       "      <td>2.0</td>\n",
       "      <td>4.0</td>\n",
       "      <td>10.0</td>\n",
       "    </tr>\n",
       "    <tr>\n",
       "      <th>bare_nuclei</th>\n",
       "      <td>546.0</td>\n",
       "      <td>3.622711</td>\n",
       "      <td>3.672431</td>\n",
       "      <td>1.0</td>\n",
       "      <td>1.0</td>\n",
       "      <td>1.0</td>\n",
       "      <td>7.0</td>\n",
       "      <td>10.0</td>\n",
       "    </tr>\n",
       "    <tr>\n",
       "      <th>bland_chromatin</th>\n",
       "      <td>546.0</td>\n",
       "      <td>3.543956</td>\n",
       "      <td>2.498970</td>\n",
       "      <td>1.0</td>\n",
       "      <td>2.0</td>\n",
       "      <td>3.0</td>\n",
       "      <td>5.0</td>\n",
       "      <td>10.0</td>\n",
       "    </tr>\n",
       "    <tr>\n",
       "      <th>normal_nucleoli</th>\n",
       "      <td>546.0</td>\n",
       "      <td>2.981685</td>\n",
       "      <td>3.121931</td>\n",
       "      <td>1.0</td>\n",
       "      <td>1.0</td>\n",
       "      <td>1.0</td>\n",
       "      <td>4.0</td>\n",
       "      <td>10.0</td>\n",
       "    </tr>\n",
       "    <tr>\n",
       "      <th>mitoses</th>\n",
       "      <td>546.0</td>\n",
       "      <td>1.617216</td>\n",
       "      <td>1.777019</td>\n",
       "      <td>1.0</td>\n",
       "      <td>1.0</td>\n",
       "      <td>1.0</td>\n",
       "      <td>1.0</td>\n",
       "      <td>10.0</td>\n",
       "    </tr>\n",
       "  </tbody>\n",
       "</table>\n",
       "</div>"
      ],
      "text/plain": [
       "                      count      mean       std  min  25%  50%  75%   max\n",
       "clump_thickness       546.0  4.503663  2.826640  1.0  2.0  4.0  6.0  10.0\n",
       "un_cell_size          546.0  3.228938  3.089011  1.0  1.0  1.0  5.0  10.0\n",
       "un_cell_shape         546.0  3.293040  2.993912  1.0  1.0  2.0  5.0  10.0\n",
       "marginal_adheshion    546.0  2.886447  2.908059  1.0  1.0  1.0  4.0  10.0\n",
       "single_eph_cell_size  546.0  3.309524  2.267719  1.0  2.0  2.0  4.0  10.0\n",
       "bare_nuclei           546.0  3.622711  3.672431  1.0  1.0  1.0  7.0  10.0\n",
       "bland_chromatin       546.0  3.543956  2.498970  1.0  2.0  3.0  5.0  10.0\n",
       "normal_nucleoli       546.0  2.981685  3.121931  1.0  1.0  1.0  4.0  10.0\n",
       "mitoses               546.0  1.617216  1.777019  1.0  1.0  1.0  1.0  10.0"
      ]
     },
     "execution_count": 11,
     "metadata": {},
     "output_type": "execute_result"
    }
   ],
   "source": [
    "train_stats = train.describe()\n",
    "train_stats.pop('class')\n",
    "train_stats = train_stats.T\n",
    "train_stats"
   ]
  },
  {
   "cell_type": "markdown",
   "id": "c2a4af3e-7c53-489f-9155-28c60b025533",
   "metadata": {},
   "source": [
    "### define y labels"
   ]
  },
  {
   "cell_type": "code",
   "execution_count": 12,
   "id": "2d1b4e1f-850a-4086-9542-484da815dfc1",
   "metadata": {},
   "outputs": [],
   "source": [
    "train_Y = train.pop('class')\n",
    "test_Y = test.pop('class')"
   ]
  },
  {
   "cell_type": "markdown",
   "id": "e4c95a86-e1cf-4029-83f2-a7a0d1e2bb21",
   "metadata": {},
   "source": [
    "### normalization of features"
   ]
  },
  {
   "cell_type": "code",
   "execution_count": 13,
   "id": "5872f8c3-305e-446d-9342-24e69ab7cd08",
   "metadata": {},
   "outputs": [],
   "source": [
    "def norm(x):\n",
    "    return (x - train_stats['mean']) / train_stats['std']"
   ]
  },
  {
   "cell_type": "code",
   "execution_count": 14,
   "id": "7d0ed2b2-d6b0-40c3-a8bc-a809788d1cd9",
   "metadata": {},
   "outputs": [],
   "source": [
    "norm_train_X = norm(train)\n",
    "norm_test_X = norm(test)"
   ]
  },
  {
   "cell_type": "markdown",
   "id": "b3825d06-5df6-413b-96ee-9be6623fe77f",
   "metadata": {},
   "source": [
    "### Transfer to tensorflow's datasets\n",
    "- 转换后可以用 map()、batch()、shuffle() in training pipelines later\n",
    "- tf.data.Dataset.from_tensor_slices((x.values, y.values)) -> 这里使用2个括弧！\n",
    "    - x.values 是一个形状为 (n_samples, n_features) 的 NumPy 数组，包含了所有样本的特征数据。\n",
    "y.values 是一个形状为 (n_samples,) 的 NumPy 数组，包含了所有样本的标签数据。\n",
    "    - 创建的 Dataset 对象将包含 n_samples 个元素，每个元素是一个 (feature, label) 对，其中 feature 是特征数据的一个样本，label 是对应的标签。\n",
    "    - 使用2个括弧是因为我们需要传递一个元组作为参数，单个括弧在这里定义了元组的边界，而不是方法调用的边界。"
   ]
  },
  {
   "cell_type": "code",
   "execution_count": 15,
   "id": "b130a5b3-492b-469e-9a43-4c38b0c110a9",
   "metadata": {},
   "outputs": [],
   "source": [
    "train_dataset = tf.data.Dataset.from_tensor_slices((norm_train_X.values, train_Y.values))\n",
    "test_dataset = tf.data.Dataset.from_tensor_slices((norm_test_X.values, test_Y.values))"
   ]
  },
  {
   "cell_type": "markdown",
   "id": "30ef5913-309f-4016-8561-fd3b79f63e46",
   "metadata": {},
   "source": [
    "### Shuffle and split batches"
   ]
  },
  {
   "cell_type": "code",
   "execution_count": 16,
   "id": "579b1275-cbe5-48dd-82d7-493b6267bd46",
   "metadata": {},
   "outputs": [],
   "source": [
    "batch_size = 32\n",
    "train_dataset = train_dataset.shuffle(buffer_size=len(train_dataset), seed=10).batch(batch_size)\n",
    "test_dataset = test_dataset.batch(batch_size)"
   ]
  },
  {
   "cell_type": "code",
   "execution_count": 17,
   "id": "0d656133-568f-43bf-8ee9-3f3a8c601bd1",
   "metadata": {
    "scrolled": true
   },
   "outputs": [
    {
     "data": {
      "text/plain": [
       "18"
      ]
     },
     "execution_count": 17,
     "metadata": {},
     "output_type": "execute_result"
    }
   ],
   "source": [
    "len(train_dataset)"
   ]
  },
  {
   "cell_type": "code",
   "execution_count": 18,
   "id": "5c918173-9efa-4391-a394-9a08ac52af30",
   "metadata": {},
   "outputs": [
    {
     "name": "stdout",
     "output_type": "stream",
     "text": [
      "18\n"
     ]
    },
    {
     "name": "stderr",
     "output_type": "stream",
     "text": [
      "2024-04-07 16:36:07.893039: W tensorflow/core/framework/local_rendezvous.cc:404] Local rendezvous is aborting with status: OUT_OF_RANGE: End of sequence\n"
     ]
    }
   ],
   "source": [
    "t = enumerate(train_dataset)\n",
    "print(len(list(t)))"
   ]
  },
  {
   "cell_type": "markdown",
   "id": "c8eb3683-36f8-46cc-ab4c-1e7a24cf2c7f",
   "metadata": {},
   "source": [
    "## Define models"
   ]
  },
  {
   "cell_type": "code",
   "execution_count": 19,
   "id": "e1d46781-6f20-4887-99e8-17f4ce824073",
   "metadata": {},
   "outputs": [],
   "source": [
    "num_features = len(norm_train_X.columns)"
   ]
  },
  {
   "cell_type": "code",
   "execution_count": 20,
   "id": "8b677345-d334-439e-b6b4-e92b4bd5b545",
   "metadata": {},
   "outputs": [],
   "source": [
    "def base_model():\n",
    "    inputs = Input(shape=(num_features,))\n",
    "    x = Dense(128, activation='relu')(inputs)\n",
    "    x = Dense(64, activation='relu')(x)\n",
    "    outputs = Dense(1, activation='sigmoid')(x)\n",
    "    model = Model(inputs=inputs, outputs=outputs)\n",
    "    return model"
   ]
  },
  {
   "cell_type": "code",
   "execution_count": 21,
   "id": "65725ee9-bd35-4776-9c18-97fabaa02ce4",
   "metadata": {},
   "outputs": [],
   "source": [
    "model = base_model()"
   ]
  },
  {
   "cell_type": "markdown",
   "id": "40dd40d9-ee28-4133-b777-8957b1071b6c",
   "metadata": {},
   "source": [
    "## Define loss and optimizer"
   ]
  },
  {
   "cell_type": "code",
   "execution_count": 22,
   "id": "4d0e17e2-30ca-462d-8f0c-3af4d64e3276",
   "metadata": {},
   "outputs": [],
   "source": [
    "optimizer = tf.keras.optimizers.RMSprop(learning_rate=0.001)\n",
    "loss_object = tf.keras.losses.BinaryCrossentropy()"
   ]
  },
  {
   "cell_type": "markdown",
   "id": "4ba22641-a22f-4b15-89eb-06d954a87019",
   "metadata": {},
   "source": [
    "## Evaluate Untrained model"
   ]
  },
  {
   "cell_type": "code",
   "execution_count": 23,
   "id": "e13dde7f-15cb-4e8c-b90e-5fdfd9441b4d",
   "metadata": {},
   "outputs": [],
   "source": [
    "preds = model(norm_test_X.values)\n",
    "loss_values = loss_object(test_Y.values, preds)"
   ]
  },
  {
   "cell_type": "code",
   "execution_count": 24,
   "id": "104757e0-4470-488b-af7c-9f4c987be4e5",
   "metadata": {
    "scrolled": true
   },
   "outputs": [
    {
     "name": "stdout",
     "output_type": "stream",
     "text": [
      "Loss before training: 0.7340\n"
     ]
    }
   ],
   "source": [
    "print(\"Loss before training: %0.4f\" %loss_values.numpy())"
   ]
  },
  {
   "cell_type": "markdown",
   "id": "f0492980-d7df-4172-bdb4-4675535ab12d",
   "metadata": {},
   "source": [
    "## Visual - Confusion maxtrix"
   ]
  },
  {
   "cell_type": "code",
   "execution_count": 25,
   "id": "4a85df61-0200-495b-9ab0-de5f503ed3f1",
   "metadata": {},
   "outputs": [],
   "source": [
    "def plot_confusion_matrix(y_true, y_pred, title=\"confustion matrix\", labels=[0,1]):\n",
    "    cm = confusion_matrix(y_true, y_pred)\n",
    "    fig = plt.figure(figsize=(4,4))\n",
    "    ax = fig.add_subplot(111)\n",
    "    cax = ax.matshow(cm) #显示混淆矩阵cm，创建矩阵视图\n",
    "    plt.title(title)\n",
    "    fig.colorbar(cax)\n",
    "    #ax.set_xticklabels([''] + labels) #['']是为了对齐坐标轴\n",
    "    #ax.set_yticklabels([''] + labels) \n",
    "    plt.xlabel(\"Prediction\")\n",
    "    plt.ylabel(\"True\")\n",
    "    \n",
    "    fmt = 'd' #设置了文本格式化的方式。'd' 表示整数格式，\n",
    "    thresh = cm.max() / 2. #阈值用来决定文本的颜色，以便在不同颜色的背景下保持文本的可读性。\n",
    "    \n",
    "    for i, j in itertools.product(range(cm.shape[0]), range(cm.shape[1])):\n",
    "        #itertools.product()+ range() ->遍历混淆矩阵的每一行和每一列的索引创建了一个组合\n",
    "        #cm.shape[0] = 2; cm.shape[1] = 2\n",
    "          plt.text(j, i, format(cm[i, j], fmt), \n",
    "                  horizontalalignment=\"center\",\n",
    "                  color=\"black\" if cm[i, j] > thresh else \"red\")\n",
    "    plt.show()"
   ]
  },
  {
   "cell_type": "code",
   "execution_count": 26,
   "id": "4d960ecf-89b1-4d09-bcfe-33565bdabbf8",
   "metadata": {},
   "outputs": [
    {
     "data": {
      "image/png": "[encoded data removed]",
      "text/plain": [
       "<Figure size 400x400 with 2 Axes>"
      ]
     },
     "metadata": {},
     "output_type": "display_data"
    }
   ],
   "source": [
    "plot_confusion_matrix(test_Y.values, tf.round(preds))"
   ]
  },
  {
   "cell_type": "markdown",
   "id": "e05c991a-aba8-41bb-894f-fa08b39627e4",
   "metadata": {},
   "source": [
    "## Define custom metrics - F1 score\n",
    "\n",
    "**F1 Score = 2 * ((precision * recall) / (precision + recall))**\n",
    "\n",
    "**precision = true_positives / (true_positives + false_positives)**\n",
    "\n",
    "**recall = true_positives / (true_positives + false_negatives)**\n",
    "\n",
    "We use `confusion_matrix` defined in `tf.math` to calculate precision and recall.\n",
    "\n",
    "Here you can see that we have subclassed `tf.keras.Metric` and implemented the three required methods `update_state`, `result` and `reset_states`."
   ]
  },
  {
   "cell_type": "code",
   "execution_count": 27,
   "id": "f7f8e9b8-d72e-40d9-9f57-d6d95446a429",
   "metadata": {},
   "outputs": [],
   "source": [
    "class F1score(tf.keras.metrics.Metric):\n",
    "    def __init__(self, name='f1 score', **kwargs):\n",
    "        super(F1score, self).__init__(name=name, **kwargs)\n",
    "        self.tp = tf.Variable(0, dtype='int32')\n",
    "        self.fp = tf.Variable(0, dtype='int32')\n",
    "        self.tn = tf.Variable(0, dtype='int32')\n",
    "        self.fn = tf.Variable(0, dtype='int32')\n",
    "\n",
    "    def update_state(self, y_true, y_pred, sample_weight=None):\n",
    "        cm = tf.math.confusion_matrix(y_true, y_pred, num_classes=2)\n",
    "        self.tp.assign_add(cm[1][1])\n",
    "        self.fp.assign_add(cm[0][1])\n",
    "        self.tn.assign_add(cm[0][0])\n",
    "        self.fn.assign_add(cm[1][0])\n",
    "\n",
    "    def result(self):\n",
    "        #precision\n",
    "        if (self.tp + self.fp ==0):\n",
    "            precision = 1.0\n",
    "        else:\n",
    "            precision = self.tp/(self.tp + self.fp)\n",
    "        #recall\n",
    "        if (self.tp + self.fn == 0):\n",
    "            recall = 1.0\n",
    "        else:\n",
    "            recall = self.tp/(self.tp + self.fn)\n",
    "        #f1\n",
    "        f1_score = tf.math.multiply(2, tf.math.divide(tf.math.multiply(precision, recall),tf.math.add(precision, recall)))\n",
    "\n",
    "        return f1_score\n",
    "\n",
    "    def reset_state(self):\n",
    "        self.tp.assign(0)\n",
    "        self.tn.assign(0)\n",
    "        self.fp.assign(0)\n",
    "        self.fn.assign(0)"
   ]
  },
  {
   "cell_type": "code",
   "execution_count": 28,
   "id": "06273579-8e90-417c-9384-b30b990ac6c5",
   "metadata": {},
   "outputs": [],
   "source": [
    "#assign to model metrics and losses\n",
    "\n",
    "train_metric_f1 = F1score()\n",
    "val_metric_f1 = F1score()\n",
    "\n",
    "train_metric_acc = tf.keras.metrics.BinaryAccuracy()\n",
    "val_metric_acc = tf.keras.metrics.BinaryAccuracy()\n"
   ]
  },
  {
   "cell_type": "markdown",
   "id": "8f72e76c-1487-41f1-9c3b-f5b5ba0b97fe",
   "metadata": {},
   "source": [
    "## Apply Gradients"
   ]
  },
  {
   "cell_type": "code",
   "execution_count": 29,
   "id": "4ccf9e16-d338-4e55-b4b5-1011988cb254",
   "metadata": {},
   "outputs": [],
   "source": [
    "def apply_gradients(optimizer, loss_object, model, x, y ):\n",
    "    with tf.GradientTape() as tape:\n",
    "        logits = model(x)\n",
    "        loss_values = loss_object(y, logits)\n",
    "\n",
    "    gradients = tape.gradient(loss_values, model.trainable_weights)\n",
    "    optimizer.apply_gradients(zip(gradients, model.trainable_weights))\n",
    "    return logits, loss_values"
   ]
  },
  {
   "cell_type": "markdown",
   "id": "bbeca944-ce1e-4096-b650-673f24d90baf",
   "metadata": {},
   "source": [
    "## Training Loop\n",
    "- define a function for training loop for each epoch\n",
    "- make updates to trainable weights\n",
    "- call 'update_state' on our metrics to accumulate the values of metrics\n",
    "- use **tqdm** to show progress bar"
   ]
  },
  {
   "cell_type": "code",
   "execution_count": 30,
   "id": "4e33356f-361e-4619-8ca7-4bd83015ca4d",
   "metadata": {},
   "outputs": [],
   "source": [
    "def train_data_for_one_epoch(train_dataset, optimizer, loss_object,\n",
    "                            model, train_metric_acc, train_metric_f1, verbose=True):\n",
    "    losses=[]\n",
    "\n",
    "    for step, (x_batch_train, y_batch_train) in enumerate(train_dataset):\n",
    "        logits, loss_value = apply_gradients(optimizer, loss_object, model, x_batch_train, y_batch_train)\n",
    "        losses.append(loss_value)\n",
    "\n",
    "        logits = tf.round(logits)\n",
    "        logits = tf.cast(logits, dtype='int64')\n",
    "\n",
    "        train_metric_acc.update_state(y_batch_train, logits)\n",
    "        train_metric_f1.update_state(y_batch_train, logits)\n",
    "\n",
    "        if verbose:\n",
    "            print(\"Training loss for step %s: loss %.4f\" % (int(step), float(loss_value)))\n",
    "\n",
    "    return losses"
   ]
  },
  {
   "cell_type": "markdown",
   "id": "543629e4-60cb-4296-87cc-2e92302c99db",
   "metadata": {},
   "source": [
    "## Validation function"
   ]
  },
  {
   "cell_type": "code",
   "execution_count": 31,
   "id": "61e541ad-573a-42a0-ae73-3c65aa07857d",
   "metadata": {},
   "outputs": [],
   "source": [
    "def perform_validation():\n",
    "\n",
    "    losses=[]\n",
    "    for x_val, y_val in test_dataset:\n",
    "        val_logits = model(x_val)\n",
    "        val_loss = loss_object(y_val, val_logits)\n",
    "        losses.append(val_loss)\n",
    "        val_logits = tf.cast(tf.round(val_logits),'int64')\n",
    "        val_metric_acc.update_state(y_val, val_logits)\n",
    "        val_metric_f1.update_state(y_val, val_logits)\n",
    "    return losses"
   ]
  },
  {
   "cell_type": "markdown",
   "id": "d8210cb7-b083-46a4-b50b-92f2874b0e0c",
   "metadata": {},
   "source": [
    "## Train the Model \n",
    "1. Perform training over all batches of training data.\n",
    "2. Get values of metrics.\n",
    "3. Perform validation to calculate loss and update validation metrics on test data.\n",
    "4. Reset the metrics at the end of epoch.\n",
    "5. Display statistics at the end of each epoch."
   ]
  },
  {
   "cell_type": "code",
   "execution_count": 32,
   "id": "d22bb42d-7430-4152-9bf4-c42601f9f976",
   "metadata": {},
   "outputs": [
    {
     "name": "stdout",
     "output_type": "stream",
     "text": [
      "Start of epoch 0\n",
      "Epoch 0: Train loss: 0.2867, Valid loss: 0.1328, \n",
      "    Train accuracy: 0.9212, Valid accuracy: 0.9708, \n",
      "    Train f1-score: 0.8954, Valid f1-score: 0.9487\n",
      "Start of epoch 1\n"
     ]
    },
    {
     "name": "stderr",
     "output_type": "stream",
     "text": [
      "2024-04-07 16:36:08.124498: W tensorflow/core/framework/local_rendezvous.cc:404] Local rendezvous is aborting with status: OUT_OF_RANGE: End of sequence\n",
      "2024-04-07 16:36:08.139512: W tensorflow/core/framework/local_rendezvous.cc:404] Local rendezvous is aborting with status: OUT_OF_RANGE: End of sequence\n",
      "2024-04-07 16:36:08.235138: W tensorflow/core/framework/local_rendezvous.cc:404] Local rendezvous is aborting with status: OUT_OF_RANGE: End of sequence\n",
      "2024-04-07 16:36:08.246136: W tensorflow/core/framework/local_rendezvous.cc:404] Local rendezvous is aborting with status: OUT_OF_RANGE: End of sequence\n"
     ]
    },
    {
     "name": "stdout",
     "output_type": "stream",
     "text": [
      "Epoch 1: Train loss: 0.0980, Valid loss: 0.0995, \n",
      "    Train accuracy: 0.9689, Valid accuracy: 0.9708, \n",
      "    Train f1-score: 0.9582, Valid f1-score: 0.9487\n",
      "Start of epoch 2\n",
      "Epoch 2: Train loss: 0.0741, Valid loss: 0.1021, \n",
      "    Train accuracy: 0.9725, Valid accuracy: 0.9708, \n",
      "    Train f1-score: 0.9630, Valid f1-score: 0.9487\n",
      "Start of epoch 3\n",
      "Epoch 3: Train loss: 0.0685, Valid loss: 0.1076, \n",
      "    Train accuracy: 0.9744, Valid accuracy: 0.9708, \n",
      "    Train f1-score: 0.9655, Valid f1-score: 0.9487\n",
      "Start of epoch 4\n"
     ]
    },
    {
     "name": "stderr",
     "output_type": "stream",
     "text": [
      "2024-04-07 16:36:08.333391: W tensorflow/core/framework/local_rendezvous.cc:404] Local rendezvous is aborting with status: OUT_OF_RANGE: End of sequence\n",
      "2024-04-07 16:36:08.344468: W tensorflow/core/framework/local_rendezvous.cc:404] Local rendezvous is aborting with status: OUT_OF_RANGE: End of sequence\n",
      "2024-04-07 16:36:08.433889: W tensorflow/core/framework/local_rendezvous.cc:404] Local rendezvous is aborting with status: OUT_OF_RANGE: End of sequence\n",
      "2024-04-07 16:36:08.444381: W tensorflow/core/framework/local_rendezvous.cc:404] Local rendezvous is aborting with status: OUT_OF_RANGE: End of sequence\n"
     ]
    },
    {
     "name": "stdout",
     "output_type": "stream",
     "text": [
      "Epoch 4: Train loss: 0.0634, Valid loss: 0.1096, \n",
      "    Train accuracy: 0.9762, Valid accuracy: 0.9708, \n",
      "    Train f1-score: 0.9679, Valid f1-score: 0.9487\n"
     ]
    },
    {
     "name": "stderr",
     "output_type": "stream",
     "text": [
      "2024-04-07 16:36:08.535557: W tensorflow/core/framework/local_rendezvous.cc:404] Local rendezvous is aborting with status: OUT_OF_RANGE: End of sequence\n",
      "2024-04-07 16:36:08.545688: W tensorflow/core/framework/local_rendezvous.cc:404] Local rendezvous is aborting with status: OUT_OF_RANGE: End of sequence\n"
     ]
    }
   ],
   "source": [
    "EPOCHS = 5\n",
    "epoch_train_losses, epoch_val_losses = [],[]\n",
    "\n",
    "for epoch in range(EPOCHS):\n",
    "    print('Start of epoch %d' % (epoch,))\n",
    "    \n",
    "    #perform training on all batches for each epoch\n",
    "    losses_train = train_data_for_one_epoch(train_dataset, optimizer, loss_object, \n",
    "                                            model, train_metric_acc, train_metric_f1,\n",
    "                                           verbose=False)\n",
    "\n",
    "    train_acc = train_metric_acc.result()\n",
    "    train_f1 = train_metric_f1.result()   \n",
    "    \n",
    "    #perform validation on all batches of test data\n",
    "    losses_val = perform_validation()\n",
    "    \n",
    "    val_acc = val_metric_acc.result()\n",
    "    val_f1 = val_metric_f1.result()\n",
    "\n",
    "    #calculate average metrics of current epoch\n",
    "    losses_train_mean = np.mean(losses_train)\n",
    "    losses_val_mean = np.mean(losses_val)\n",
    "    epoch_train_losses.append(losses_train_mean)\n",
    "    epoch_val_losses.append(losses_val_mean)\n",
    "\n",
    "    #print losses & metrics\n",
    "    print('''Epoch %s: Train loss: %.4f, Valid loss: %.4f, \n",
    "    Train accuracy: %.4f, Valid accuracy: %.4f, \n",
    "    Train f1-score: %.4f, Valid f1-score: %.4f''' \n",
    "          % (epoch, float(losses_train_mean), float(losses_val_mean), float(train_acc), float(val_acc), \n",
    "            float(train_f1), float(val_f1)))  \n",
    "\n",
    "    #reset metrics\n",
    "    train_metric_acc.reset_state()\n",
    "    train_metric_f1.reset_state()\n",
    "    val_metric_acc.reset_state()\n",
    "    val_metric_f1.reset_state()"
   ]
  },
  {
   "cell_type": "markdown",
   "id": "b134918c-9ab0-4fd5-8dd5-45fa61bb2d96",
   "metadata": {},
   "source": [
    "## Evaluate the model"
   ]
  },
  {
   "cell_type": "markdown",
   "id": "1e704d86-b7f7-480f-a11d-434d93941a2d",
   "metadata": {},
   "source": [
    "plot the loss"
   ]
  },
  {
   "cell_type": "code",
   "execution_count": 37,
   "id": "13029454-e77d-4d84-9f2b-f145b957c5c5",
   "metadata": {},
   "outputs": [],
   "source": [
    "def plot_metrics(train_metrics, val_metrics, metric_name, title):\n",
    "    plt.title(title)\n",
    "    plt.ylim(0, 0.5)\n",
    "    plt.gca().xaxis.set_major_locator(mticker.MultipleLocator(1))\n",
    "    plt.plot(train_metrics, color='blue', label=metric_name)\n",
    "    plt.plot(val_metrics, color='red', label='val_'+metric_name)\n",
    "    plt.legend()"
   ]
  },
  {
   "cell_type": "code",
   "execution_count": 38,
   "id": "6f336fbd-ad98-494e-a65f-0831be73bcad",
   "metadata": {},
   "outputs": [
    {
     "data": {
      "image/png": "[encoded data removed]",
      "text/plain": [
       "<Figure size 640x480 with 1 Axes>"
      ]
     },
     "metadata": {},
     "output_type": "display_data"
    }
   ],
   "source": [
    "plot_metrics(epoch_train_losses, epoch_val_losses, \"Loss\", \"Epoch Loss\")"
   ]
  },
  {
   "cell_type": "code",
   "execution_count": 45,
   "id": "36a806a7-8e44-4755-8f7b-af2b5d887bc7",
   "metadata": {
    "scrolled": true
   },
   "outputs": [
    {
     "name": "stdout",
     "output_type": "stream",
     "text": [
      "Mean Validation Loss after training epochs: 0.1103\n"
     ]
    }
   ],
   "source": [
    "preds = model(norm_test_X.values)\n",
    "\n",
    "print(\"Mean Validation Loss after training epochs: %0.4f\" % np.mean(epoch_val_losses))"
   ]
  },
  {
   "cell_type": "code",
   "execution_count": 46,
   "id": "2f1abe39-bc41-4de5-88c2-1d0af18a80c1",
   "metadata": {},
   "outputs": [
    {
     "data": {
      "image/png": "[encoded data removed]",
      "text/plain": [
       "<Figure size 400x400 with 2 Axes>"
      ]
     },
     "metadata": {},
     "output_type": "display_data"
    }
   ],
   "source": [
    "plot_confusion_matrix(test_Y.values, tf.round(preds), title=\"Confusion Matrix after Training\")"
   ]
  },
  {
   "cell_type": "code",
   "execution_count": null,
   "id": "fab44d03-f23b-4db7-b729-beb739ab1fe8",
   "metadata": {},
   "outputs": [],
   "source": []
  }
 ],
 "metadata": {
  "kernelspec": {
   "display_name": "Python 3 (ipykernel)",
   "language": "python",
   "name": "python3"
  },
  "language_info": {
   "codemirror_mode": {
    "name": "ipython",
    "version": 3
   },
   "file_extension": ".py",
   "mimetype": "text/x-python",
   "name": "python",
   "nbconvert_exporter": "python",
   "pygments_lexer": "ipython3",
   "version": "3.12.0"
  }
 },
 "nbformat": 4,
 "nbformat_minor": 5
}
