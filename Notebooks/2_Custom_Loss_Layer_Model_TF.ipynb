{
 "cells": [
  {
   "cell_type": "markdown",
   "id": "e6be34c7-f77a-468a-94f0-85b82277d2ec",
   "metadata": {},
   "source": [
    "# Custom A loss function"
   ]
  },
  {
   "cell_type": "markdown",
   "id": "a0be44e2-a46a-4dbf-aff8-e42fea6518d8",
   "metadata": {},
   "source": [
    "## Imports"
   ]
  },
  {
   "cell_type": "code",
   "execution_count": 116,
   "id": "1c062388-1165-4031-ab34-1bb3a35487bb",
   "metadata": {},
   "outputs": [],
   "source": [
    "import numpy as np\n",
    "import tensorflow as tf\n",
    "from tensorflow.keras import backend as K\n",
    "import tensorflow_datasets as tfds"
   ]
  },
  {
   "cell_type": "markdown",
   "id": "fb486615-328f-4e26-8e1d-98b7a9c870d1",
   "metadata": {},
   "source": [
    "## Define data and its loss function\n",
    "\n",
    "- inputs: xs\n",
    "- outputs: ys\n",
    "- formula: y = 2x - 1\n",
    "\n",
    "- root mean square error (RMSE) of  (y_true - y_pred)"
   ]
  },
  {
   "cell_type": "code",
   "execution_count": 21,
   "id": "00b7d9e8-d504-4a46-b5d8-4053aa22e103",
   "metadata": {},
   "outputs": [
    {
     "name": "stdout",
     "output_type": "stream",
     "text": [
      "[-3. -1.  1.  3.  5.  7.]\n"
     ]
    }
   ],
   "source": [
    "#inputs\n",
    "xs = np.array([-1.0,  0.0, 1.0, 2.0, 3.0, 4.0], dtype='float32')\n",
    "\n",
    "#outputs\n",
    "ys = np.array(2*xs - 1)\n",
    "\n",
    "print(ys)"
   ]
  },
  {
   "cell_type": "code",
   "execution_count": 22,
   "id": "d3213b51-9f35-4007-9b4f-44e523192691",
   "metadata": {},
   "outputs": [],
   "source": [
    "def my_rmse(y_true, y_pred):\n",
    "    err = y_true - y_pred\n",
    "    err_sq = K.square(err)\n",
    "    mean_err_sq = K.mean(err_sq)\n",
    "    rmse = K.sqrt(mean_err_sq)\n",
    "    return rmse"
   ]
  },
  {
   "cell_type": "markdown",
   "id": "f17ee64c-f5b4-45fb-bfc5-74132a16595e",
   "metadata": {},
   "source": [
    "## Define a model"
   ]
  },
  {
   "cell_type": "code",
   "execution_count": 23,
   "id": "fda5fa1c-600c-40e9-b68f-2cbe8540adac",
   "metadata": {},
   "outputs": [],
   "source": [
    "model = tf.keras.Sequential([tf.keras.layers.Dense(units=1, input_shape = [1])])\n",
    "model.compile(optimizer='sgd',\n",
    "             loss=my_rmse)"
   ]
  },
  {
   "cell_type": "code",
   "execution_count": 33,
   "id": "e6d4f8cf-5142-4343-83d9-f8902a2b8494",
   "metadata": {},
   "outputs": [
    {
     "data": {
      "text/plain": [
       "<keras.src.callbacks.history.History at 0x2f312a840>"
      ]
     },
     "execution_count": 33,
     "metadata": {},
     "output_type": "execute_result"
    }
   ],
   "source": [
    "model.fit(xs, ys, epochs=500, verbose=0)"
   ]
  },
  {
   "cell_type": "code",
   "execution_count": 34,
   "id": "06a76176-f30a-46e4-8d81-75bf9bf6ce41",
   "metadata": {},
   "outputs": [],
   "source": [
    "test = np.array([float(10)])"
   ]
  },
  {
   "cell_type": "code",
   "execution_count": 35,
   "id": "513a4809-933a-44c1-9b89-ef9e52e4efc8",
   "metadata": {},
   "outputs": [
    {
     "name": "stdout",
     "output_type": "stream",
     "text": [
      "\u001b[1m1/1\u001b[0m \u001b[32m━━━━━━━━━━━━━━━━━━━━\u001b[0m\u001b[37m\u001b[0m \u001b[1m0s\u001b[0m 8ms/step\n",
      "[[18.97395]]\n"
     ]
    }
   ],
   "source": [
    "print(model.predict(test))"
   ]
  },
  {
   "cell_type": "markdown",
   "id": "6e871265-9577-44e4-a55c-886c57dc3632",
   "metadata": {},
   "source": [
    "# Custom a quadratic layer\n",
    "- build a custom quadratic layer which computes $y = ax^2 + bx + c$.\n",
    "- plugged into a model that will be trained on the MNIST dataset.\n",
    "- ## `__init__`\n",
    "- call `super(my_fun, self)` to access the base class of `my_fun`, and call the `__init__()` function to initialize that base class.  In this case, `my_fun` is `SimpleQuadratic` and its base class is `Layer`.\n",
    "- self.units: set this using one of the function parameters.\n",
    "- self.activation: The function parameter `activation` will be passed in as a string.  To get the tensorflow object associated with the string, please use `tf.keras.activations.get()` \n",
    "\n",
    "\n",
    "## `build`\n",
    "The following are suggested steps for writing your code.  If you prefer to use fewer lines to implement it, feel free to do so.  Either way, you'll want to set `self.a`, `self.b` and `self.c`.\n",
    "\n",
    "- a_init: set this to tensorflow's `random_normal_initializer()`\n",
    "- a_init_val: Use the `random_normal_initializer()` that you just created and invoke it, setting the `shape` and `dtype`.\n",
    "    - The `shape` of `a` should have its row dimension equal to the last dimension of `input_shape`, and its column dimension equal to the number of units in the layer.  \n",
    "    - This is because you'll be matrix multiplying x^2 * a, so the dimensions should be compatible.\n",
    "    - set the dtype to 'float32'\n",
    "- self.a: create a tensor using tf.Variable, setting the initial_value and set trainable to True.\n",
    "\n",
    "- b_init, b_init_val, and self.b: these will be set in the same way that you implemented a_init, a_init_val and self.a\n",
    "- c_init: set this to `tf.zeros_initializer`.\n",
    "- c_init_val: Set this by calling the tf.zeros_initializer that you just instantiated, and set the `shape` and `dtype`\n",
    "  - shape: This will be a vector equal to the number of units.  This expects a tuple, and remember that a tuple `(9,)` includes a comma.\n",
    "  - dtype: set to 'float32'.\n",
    "- self.c: create a tensor using tf.Variable, and set the parameters `initial_value` and `trainable`.\n",
    "\n",
    "## `call`\n",
    "The following section performs the multiplication x^2*a + x*b + c.  The steps are broken down for clarity, but you can also perform this calculation in fewer lines if you prefer.\n",
    "- x_squared: use tf.math.square()\n",
    "- x_squared_times_a: use tf.matmul().  \n",
    "  - If you see an error saying `InvalidArgumentError: Matrix size-incompatible`, please check the order of the matrix multiplication to make sure that the matrix dimensions line up.\n",
    "- x_times_b: use tf.matmul().\n",
    "- x2a_plus_xb_plus_c: add the three terms together.\n",
    "- activated_x2a_plus_xb_plus_c: apply the class's `activation` to the sum of the three terms.\n"
   ]
  },
  {
   "cell_type": "markdown",
   "id": "608c1d01-98d2-424e-9c17-6934ab907a99",
   "metadata": {},
   "source": [
    "## Define a quadratic layer"
   ]
  },
  {
   "cell_type": "code",
   "execution_count": 76,
   "id": "bc80956e-67e6-4464-89c3-af303b3418c7",
   "metadata": {},
   "outputs": [],
   "source": [
    "class SimpleQuadratic(tf.keras.layers.Layer):\n",
    "\n",
    "    def __init__(self, units=32, activation=None):\n",
    "\n",
    "        super(SimpleQuadratic, self).__init__()\n",
    "        self.units = units\n",
    "        self.activation = tf.keras.activations.get(activation)\n",
    "\n",
    "    def build(self, input_shape):\n",
    "        a_init = tf.random_normal_initializer()\n",
    "        a_init_val = a_init(shape=(input_shape[-1], self.units), dtype='float32')\n",
    "        self.a = tf.Variable(initial_value=a_init_val, trainable=True)\n",
    "\n",
    "        b_init = tf.random_normal_initializer()\n",
    "        b_init_val = b_init(shape=(input_shape[-1], self.units), dtype='float32')\n",
    "        self.b = tf.Variable(initial_value=b_init_val, trainable=True)\n",
    "\n",
    "        c_init = tf.zeros_initializer()\n",
    "        c_init_val = c_init(shape=(self.units,), dtype='float32') #注意shape=（x,)\n",
    "        self.c = tf.Variable(initial_value=c_init_val, trainable=True)\n",
    "\n",
    "    def call(self, inputs):\n",
    "        x_square = tf.math.square(inputs)\n",
    "        x_a = tf.matmul(x_square, self.a)\n",
    "        x_b = tf.matmul(inputs, self.b)\n",
    "        x_result = x_a + x_b + self.c\n",
    "        return self.activation(x_result)"
   ]
  },
  {
   "cell_type": "markdown",
   "id": "b3a097f8-e447-4eaa-8539-edfc1488854f",
   "metadata": {},
   "source": [
    "## Try MNIST dataset to apply custom layer"
   ]
  },
  {
   "cell_type": "code",
   "execution_count": 77,
   "id": "2c486d54-1eb0-49fb-8ae8-812ba26a51f5",
   "metadata": {},
   "outputs": [],
   "source": [
    "mnist = tf.keras.datasets.mnist"
   ]
  },
  {
   "cell_type": "code",
   "execution_count": 78,
   "id": "c691772d-9e26-482d-8e1f-1585a40a0c3a",
   "metadata": {},
   "outputs": [],
   "source": [
    "(x_train, y_train),(x_test, y_test) = mnist.load_data()"
   ]
  },
  {
   "cell_type": "code",
   "execution_count": 79,
   "id": "36e57565-ed78-4128-9ba5-7f320df97c24",
   "metadata": {},
   "outputs": [],
   "source": [
    "x_train, x_test = x_train/255., x_test/255."
   ]
  },
  {
   "cell_type": "code",
   "execution_count": 80,
   "id": "0a9afbc9-0afe-44ee-9783-d51d6d78de34",
   "metadata": {},
   "outputs": [],
   "source": [
    "model = tf.keras.Sequential([\n",
    "    tf.keras.layers.InputLayer(shape=[28,28]),\n",
    "    tf.keras.layers.Flatten(),\n",
    "    SimpleQuadratic(units=128, activation='relu'), #Apply custom layer\n",
    "    tf.keras.layers.Dropout(0.2),\n",
    "    tf.keras.layers.Dense(10, activation='softmax')])\n",
    "    "
   ]
  },
  {
   "cell_type": "code",
   "execution_count": 81,
   "id": "20badc0f-fd67-43fc-a7a5-6ff3c2f7f763",
   "metadata": {},
   "outputs": [],
   "source": [
    "model.compile(optimizer='adam',\n",
    "             loss = 'sparse_categorical_crossentropy',\n",
    "             metrics=['accuracy'])"
   ]
  },
  {
   "cell_type": "code",
   "execution_count": 82,
   "id": "1cd66891-73da-4948-8b34-450d60bd209e",
   "metadata": {},
   "outputs": [
    {
     "name": "stdout",
     "output_type": "stream",
     "text": [
      "Epoch 1/8\n",
      "\u001b[1m1875/1875\u001b[0m \u001b[32m━━━━━━━━━━━━━━━━━━━━\u001b[0m\u001b[37m\u001b[0m \u001b[1m1s\u001b[0m 323us/step - accuracy: 0.5679 - loss: 1.4259\n",
      "Epoch 2/8\n",
      "\u001b[1m1875/1875\u001b[0m \u001b[32m━━━━━━━━━━━━━━━━━━━━\u001b[0m\u001b[37m\u001b[0m \u001b[1m1s\u001b[0m 324us/step - accuracy: 0.7958 - loss: 0.6766\n",
      "Epoch 3/8\n",
      "\u001b[1m1875/1875\u001b[0m \u001b[32m━━━━━━━━━━━━━━━━━━━━\u001b[0m\u001b[37m\u001b[0m \u001b[1m1s\u001b[0m 322us/step - accuracy: 0.8099 - loss: 0.6115\n",
      "Epoch 4/8\n",
      "\u001b[1m1875/1875\u001b[0m \u001b[32m━━━━━━━━━━━━━━━━━━━━\u001b[0m\u001b[37m\u001b[0m \u001b[1m1s\u001b[0m 333us/step - accuracy: 0.8161 - loss: 0.5895\n",
      "Epoch 5/8\n",
      "\u001b[1m1875/1875\u001b[0m \u001b[32m━━━━━━━━━━━━━━━━━━━━\u001b[0m\u001b[37m\u001b[0m \u001b[1m1s\u001b[0m 318us/step - accuracy: 0.8203 - loss: 0.5757\n",
      "Epoch 6/8\n",
      "\u001b[1m1875/1875\u001b[0m \u001b[32m━━━━━━━━━━━━━━━━━━━━\u001b[0m\u001b[37m\u001b[0m \u001b[1m1s\u001b[0m 317us/step - accuracy: 0.8208 - loss: 0.5680\n",
      "Epoch 7/8\n",
      "\u001b[1m1875/1875\u001b[0m \u001b[32m━━━━━━━━━━━━━━━━━━━━\u001b[0m\u001b[37m\u001b[0m \u001b[1m1s\u001b[0m 317us/step - accuracy: 0.8197 - loss: 0.5678\n",
      "Epoch 8/8\n",
      "\u001b[1m1875/1875\u001b[0m \u001b[32m━━━━━━━━━━━━━━━━━━━━\u001b[0m\u001b[37m\u001b[0m \u001b[1m1s\u001b[0m 322us/step - accuracy: 0.8191 - loss: 0.5698\n"
     ]
    },
    {
     "data": {
      "text/plain": [
       "<keras.src.callbacks.history.History at 0x33b202690>"
      ]
     },
     "execution_count": 82,
     "metadata": {},
     "output_type": "execute_result"
    }
   ],
   "source": [
    "model.fit(x_train, y_train, epochs=8)"
   ]
  },
  {
   "cell_type": "code",
   "execution_count": 83,
   "id": "20085744-0d2b-4eeb-87af-4ea61ef6e4a2",
   "metadata": {},
   "outputs": [
    {
     "name": "stdout",
     "output_type": "stream",
     "text": [
      "\u001b[1m313/313\u001b[0m \u001b[32m━━━━━━━━━━━━━━━━━━━━\u001b[0m\u001b[37m\u001b[0m \u001b[1m0s\u001b[0m 304us/step - accuracy: 0.8497 - loss: 0.4891\n"
     ]
    },
    {
     "data": {
      "text/plain": [
       "[0.42426013946533203, 0.8718000054359436]"
      ]
     },
     "execution_count": 83,
     "metadata": {},
     "output_type": "execute_result"
    }
   ],
   "source": [
    "model.evaluate(x_test, y_test)"
   ]
  },
  {
   "cell_type": "markdown",
   "id": "2af58beb-9426-4d78-8c97-ceb7b657cd9b",
   "metadata": {},
   "source": [
    "# Custom a model"
   ]
  },
  {
   "cell_type": "markdown",
   "id": "c304939d-379c-485b-81d9-bbe3ff98e34c",
   "metadata": {},
   "source": [
    "## Create named-variables dynamically"
   ]
  },
  {
   "cell_type": "code",
   "execution_count": 84,
   "id": "0bb7f042-3218-48d0-ba5c-421637e7ef90",
   "metadata": {},
   "outputs": [],
   "source": [
    "class MyClass:\n",
    "    def __init__(self):\n",
    "        self.var1=1"
   ]
  },
  {
   "cell_type": "code",
   "execution_count": 85,
   "id": "fd207053-4c32-450b-b256-774272c6def6",
   "metadata": {},
   "outputs": [],
   "source": [
    "obj1 = MyClass()"
   ]
  },
  {
   "cell_type": "code",
   "execution_count": 86,
   "id": "4a895cf2-6736-49e9-b2ef-9253cfcab68c",
   "metadata": {},
   "outputs": [
    {
     "data": {
      "text/plain": [
       "{'var1': 1}"
      ]
     },
     "execution_count": 86,
     "metadata": {},
     "output_type": "execute_result"
    }
   ],
   "source": [
    "obj1.__dict__"
   ]
  },
  {
   "cell_type": "code",
   "execution_count": 89,
   "id": "4e1ea840-a3f4-4ded-ba40-472063486397",
   "metadata": {},
   "outputs": [],
   "source": [
    "obj1.var2 = 2"
   ]
  },
  {
   "cell_type": "code",
   "execution_count": 90,
   "id": "35b2c01c-3685-4527-9bcb-d737beb84eb3",
   "metadata": {},
   "outputs": [
    {
     "data": {
      "text/plain": [
       "{'var1': 1, 'var2': 2}"
      ]
     },
     "execution_count": 90,
     "metadata": {},
     "output_type": "execute_result"
    }
   ],
   "source": [
    "obj1.__dict__"
   ]
  },
  {
   "cell_type": "code",
   "execution_count": 91,
   "id": "4c09c7f2-c18e-4510-b7c8-209c84075df3",
   "metadata": {},
   "outputs": [
    {
     "data": {
      "text/plain": [
       "{'var1': 1, 'var2': 2, 'var3': 3}"
      ]
     },
     "execution_count": 91,
     "metadata": {},
     "output_type": "execute_result"
    }
   ],
   "source": [
    "obj1.var3 = 3\n",
    "obj1.__dict__"
   ]
  },
  {
   "cell_type": "markdown",
   "id": "53f2a4c9-fd92-4f2b-a9b6-2d68ee2fc88b",
   "metadata": {},
   "source": [
    "### vars() function \n",
    "If you call vars() and pass in an object, it will call the object's __dict__ attribute, which is a Python dictionary containing the object's instance variables and their values as ke"
   ]
  },
  {
   "cell_type": "code",
   "execution_count": 92,
   "id": "783d24e9-6a00-411b-903c-ccae0cee05d2",
   "metadata": {},
   "outputs": [
    {
     "data": {
      "text/plain": [
       "{'var1': 1, 'var2': 2, 'var3': 3}"
      ]
     },
     "execution_count": 92,
     "metadata": {},
     "output_type": "execute_result"
    }
   ],
   "source": [
    "vars(obj1)"
   ]
  },
  {
   "cell_type": "code",
   "execution_count": 93,
   "id": "a95eb3cf-f574-448e-8e4b-016644e67dc7",
   "metadata": {},
   "outputs": [],
   "source": [
    "vars(obj1)['var3']=5"
   ]
  },
  {
   "cell_type": "code",
   "execution_count": 94,
   "id": "f047a7c3-b6c8-432a-8421-5d714976466c",
   "metadata": {},
   "outputs": [
    {
     "data": {
      "text/plain": [
       "{'var1': 1, 'var2': 2, 'var3': 5}"
      ]
     },
     "execution_count": 94,
     "metadata": {},
     "output_type": "execute_result"
    }
   ],
   "source": [
    "vars(obj1)"
   ]
  },
  {
   "cell_type": "code",
   "execution_count": 95,
   "id": "78b933f6-3a98-487d-b761-b731d96bbdac",
   "metadata": {},
   "outputs": [
    {
     "data": {
      "text/plain": [
       "{'var1': 1,\n",
       " 'var2': 2,\n",
       " 'var3': 5,\n",
       " 'var4': 0,\n",
       " 'var5': 0,\n",
       " 'var6': 0,\n",
       " 'var7': 0,\n",
       " 'var8': 0,\n",
       " 'var9': 0}"
      ]
     },
     "execution_count": 95,
     "metadata": {},
     "output_type": "execute_result"
    }
   ],
   "source": [
    "for i in range(4,10):\n",
    "    vars(obj1)[f'var{i}'] = 0\n",
    "vars(obj1)"
   ]
  },
  {
   "cell_type": "markdown",
   "id": "eadf093e-5f5e-4601-ac58-87fb238fbce4",
   "metadata": {},
   "source": [
    "## Build a VGG block\n",
    "\n",
    "### `__init__`\n",
    "In the constructor `__init__`, store the conv2D parameters and also define the number of conv2D layers using the parameters passed into `__init__`.\n",
    "- Store the filters, kernel_size, and repetitions as class variables so that they can be used later in the `call` function.\n",
    "- Using a for loop, define a number of Conv2D [Conv2D](https://keras.io/api/layers/convolution_layers/convolution2d/) layers, based on the number of `repetitions` desired for this block.\n",
    "    - You can define each conv2D layer using `vars` and string formatting to create conv2D_0, conv2D_1, conv2D_3 etc.\n",
    "    - Set these four parameters of Conv2D:\n",
    "        - filters\n",
    "        - kernel_size\n",
    "        - activation: set this to 'relu'\n",
    "        - padding: set this to 'same' (default pading is 'valid').\n",
    "        \n",
    "- Define the [MaxPool2D](https://keras.io/api/layers/pooling_layers/max_pooling2d/) layer that follows these Conv2D layers. \n",
    "    - Set the following parameters for MaxPool2D:\n",
    "        - pool_size: this will be a tuple with two values.\n",
    "        - strides: this will also be a tuple with two values.\n",
    "\n",
    "### `call`\n",
    "In `call`, you will connect the layers together.\n",
    "- The 0-th conv2D layer, `conv2D_0`, immediately follows the `inputs`.\n",
    "- For conv2D layers 1,2 and onward, you can use a for loop to connect conv2D_1 to conv2D_0, and connect conv2D_2 to conv2D_1, and so on.\n",
    "- After connecting all of the conv2D_i layers, add connect the max_pool layer and return the max_pool layer."
   ]
  },
  {
   "cell_type": "code",
   "execution_count": 96,
   "id": "3fcc5666-633c-4d46-b997-0690b803a3e0",
   "metadata": {},
   "outputs": [],
   "source": [
    "class Block(tf.keras.Model):\n",
    "    def __init__(self, filters, kernel_size, repetitions, \n",
    "                pool_size=2, strides=2):\n",
    "        super(Block, self).__init__()\n",
    "        self.filters = filters\n",
    "        self.kernel_size = kernel_size\n",
    "        self.repetitions = repetitions\n",
    "\n",
    "        for i in range(self.repetitions):\n",
    "            vars(self)[f'conv2D_{i}'] = tf.keras.layers.Conv2D(filters, kernel_size,\n",
    "                                                              padding='same',\n",
    "                                                              activation='relu')\n",
    "        self.max_pool = tf.keras.layers.MaxPool2D(pool_size, strides)\n",
    "\n",
    "    def call(self, inputs):\n",
    "        conv2D_0 = self.conv2D_0\n",
    "        x = conv2D_0(inputs)\n",
    "        for i in range(1, self.repetitions):\n",
    "            conv2D_i = vars(self)[f'conv2D_{i}']\n",
    "            x = conv2D_i(x)\n",
    "        max_pool = self.max_pool(x)\n",
    "        return max_pool"
   ]
  },
  {
   "cell_type": "markdown",
   "id": "887fdd1b-cfba-4447-af55-87840db972dc",
   "metadata": {},
   "source": [
    "## Build a VGG Network\n",
    "\n",
    "### `__init__`\n",
    "- Recall that the `__init__` constructor of `Block` takes several function parameters, \n",
    "    - filters, kernel_size, repetitions: you'll set these.\n",
    "    - kernel_size and strides: you can use the default values.\n",
    "- For blocks a through e, build the blocks according to the following specifications:\n",
    "- block_a: 64  filters, kernel_size 3, repetitions 2\n",
    "- block_b: 128 filters, kernel_size 3, repetitions 2\n",
    "- block_c: 256 filters, kernel_size 3, repetitions 3\n",
    "- block_d: 512 filters, kernel_size 3, repetitions 3\n",
    "- block_e: 512 filters, kernel_size 3, repetitions 3\n",
    "\n",
    "After block 'e', add the following layers:\n",
    "- flatten: use [Flatten](https://keras.io/api/layers/reshaping_layers/flatten/).\n",
    "- fc: create a fully connected layer using [Dense](https://keras.io/api/layers/core_layers/dense/).  Give this 256 units, and a `'relu'` activation.\n",
    "- classifier: create the classifier using a Dense layer.  The number of units equals the number of classes.  For multi-class classification, use a `'softmax'` activation.\n",
    "\n",
    "### `call`\n",
    "Connect these layers together using the functional API syntax:\n",
    "- inputs\n",
    "- block_a\n",
    "- block_b\n",
    "- block_c\n",
    "- block_d\n",
    "- block_e\n",
    "- flatten\n",
    "- fc\n",
    "- classifier\n",
    "\n",
    "Return the classifier layer."
   ]
  },
  {
   "cell_type": "code",
   "execution_count": 103,
   "id": "e43dc16a-eeb3-4a8f-a59e-4a6b6e2b1d89",
   "metadata": {},
   "outputs": [],
   "source": [
    "class MyVGG(tf.keras.models.Model):\n",
    "    def __init__(self, num_classes):\n",
    "        super(MyVGG, self).__init__()\n",
    "        self.block_a = Block(64, 3, 2)\n",
    "        self.block_b = Block(128, 3, 2)\n",
    "        self.block_c = Block(256, 3, 3)\n",
    "        self.block_d = Block(512, 3, 3)\n",
    "        self.block_e = Block(512, 3, 3)\n",
    "\n",
    "        self.flatten = tf.keras.layers.Flatten()\n",
    "        self.fc = tf.keras.layers.Dense(256, activation='relu')\n",
    "        self.classifier = tf.keras.layers.Dense(num_classes, activation='softmax')\n",
    "\n",
    "    def call(self, inputs):\n",
    "        x = self.block_a(inputs)\n",
    "        x = self.block_b(x)\n",
    "        x = self.block_c(x)\n",
    "        x = self.block_d(x)\n",
    "        x = self.block_e(x)\n",
    "        x = self.flatten(x)\n",
    "        x = self.fc(x)\n",
    "        x = self.classifier(x)\n",
    "        return x"
   ]
  },
  {
   "cell_type": "code",
   "execution_count": 115,
   "id": "41a17885-221f-40b5-9967-c98adde8b97f",
   "metadata": {},
   "outputs": [],
   "source": [
    "\n",
    "# Initialize VGG with the number of classes \n",
    "vgg = MyVGG(num_classes=2)\n",
    "\n",
    "# Compile with losses and metrics\n",
    "vgg.compile(optimizer='adam', \n",
    "            loss='sparse_categorical_crossentropy', \n",
    "            metrics=['accuracy'])\n"
   ]
  },
  {
   "cell_type": "code",
   "execution_count": null,
   "id": "20021825-fbf2-44ff-be63-1284d6c42b51",
   "metadata": {},
   "outputs": [],
   "source": [
    "# # For reference only. Please do not uncomment in Coursera Labs because it might cause the grader to time out.\n",
    "# # You can upload your notebook to Colab instead if you want to try the code below.\n",
    "\n",
    "# # Download the dataset\n",
    "# dataset = tfds.load('cats_vs_dogs', split=tfds.Split.TRAIN, data_dir='data/')\n",
    "\n",
    "# # Initialize VGG with the number of classes \n",
    "# vgg = MyVGG(num_classes=2)\n",
    "\n",
    "# # Compile with losses and metrics\n",
    "# vgg.compile(optimizer='adam', loss='sparse_categorical_crossentropy', metrics=['accuracy'])\n",
    "\n",
    "# # Define preprocessing function\n",
    "# def preprocess(features):\n",
    "#     # Resize and normalize\n",
    "#     image = tf.image.resize(features['image'], (224, 224))\n",
    "#     return tf.cast(image, tf.float32) / 255., features['label']\n",
    "\n",
    "# # Apply transformations to dataset\n",
    "# dataset = dataset.map(preprocess).batch(32)\n",
    "\n",
    "# # Train the custom VGG model\n",
    "# vgg.fit(dataset, epochs=10)"
   ]
  }
 ],
 "metadata": {
  "kernelspec": {
   "display_name": "Python 3 (ipykernel)",
   "language": "python",
   "name": "python3"
  },
  "language_info": {
   "codemirror_mode": {
    "name": "ipython",
    "version": 3
   },
   "file_extension": ".py",
   "mimetype": "text/x-python",
   "name": "python",
   "nbconvert_exporter": "python",
   "pygments_lexer": "ipython3",
   "version": "3.12.0"
  }
 },
 "nbformat": 4,
 "nbformat_minor": 5
}
